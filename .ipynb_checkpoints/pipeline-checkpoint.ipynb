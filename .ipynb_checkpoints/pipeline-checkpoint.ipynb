{
 "cells": [
  {
   "cell_type": "code",
   "execution_count": 0,
   "metadata": {
    "colab": {},
    "colab_type": "code",
    "id": "paptG3Neygx4"
   },
   "outputs": [],
   "source": [
    "\n",
    "import pandas as pd\n",
    "import numpy as np\n",
    "import matplotlib.pyplot as plt\n",
    "from sklearn.metrics import accuracy_score\n",
    "pd.set_option('display.max_columns', 130)\n",
    "from sklearn import preprocessing\n",
    "from sklearn.metrics import recall_score\n",
    "from sklearn.metrics import precision_score\n",
    "from sklearn.metrics import f1_score\n",
    "from sklearn.metrics import  classification_report\n",
    "from imblearn.over_sampling import SMOTE, RandomOverSampler\n",
    "from imblearn.under_sampling import RandomUnderSampler\n",
    "import pickle"
   ]
  },
  {
   "cell_type": "code",
   "execution_count": 6,
   "metadata": {
    "colab": {
     "base_uri": "https://localhost:8080/",
     "height": 422
    },
    "colab_type": "code",
    "executionInfo": {
     "elapsed": 13561,
     "status": "ok",
     "timestamp": 1581823909271,
     "user": {
      "displayName": "Sujay S",
      "photoUrl": "",
      "userId": "00910928364704092992"
     },
     "user_tz": -330
    },
    "id": "G1UQhGiIz2km",
    "outputId": "085d0927-b55b-4e40-beec-4442f5ee3c23"
   },
   "outputs": [
    {
     "data": {
      "text/html": [
       "<div>\n",
       "<style scoped>\n",
       "    .dataframe tbody tr th:only-of-type {\n",
       "        vertical-align: middle;\n",
       "    }\n",
       "\n",
       "    .dataframe tbody tr th {\n",
       "        vertical-align: top;\n",
       "    }\n",
       "\n",
       "    .dataframe thead th {\n",
       "        text-align: right;\n",
       "    }\n",
       "</style>\n",
       "<table border=\"1\" class=\"dataframe\">\n",
       "  <thead>\n",
       "    <tr style=\"text-align: right;\">\n",
       "      <th></th>\n",
       "      <th>Quarter</th>\n",
       "      <th>Year</th>\n",
       "      <th>Month</th>\n",
       "      <th>DayofMonth</th>\n",
       "      <th>DepTime</th>\n",
       "      <th>DepDel15</th>\n",
       "      <th>CRSDepTime</th>\n",
       "      <th>DepDelayMinutes</th>\n",
       "      <th>OriginAirportID</th>\n",
       "      <th>DestAirportID</th>\n",
       "      <th>CRSArrTime</th>\n",
       "      <th>windspeedKmph</th>\n",
       "      <th>winddirDegree</th>\n",
       "      <th>weatherCode</th>\n",
       "      <th>precipMM</th>\n",
       "      <th>visibility</th>\n",
       "      <th>pressure</th>\n",
       "      <th>cloudcover</th>\n",
       "      <th>DewPointF</th>\n",
       "      <th>WindGustKmph</th>\n",
       "      <th>tempF</th>\n",
       "      <th>WindChillF</th>\n",
       "      <th>humidity</th>\n",
       "      <th>time</th>\n",
       "      <th>loc_CLT</th>\n",
       "      <th>loc_DEN</th>\n",
       "      <th>loc_DFW</th>\n",
       "      <th>loc_EWR</th>\n",
       "      <th>loc_IAH</th>\n",
       "      <th>loc_JFK</th>\n",
       "      <th>loc_LAS</th>\n",
       "      <th>loc_LAX</th>\n",
       "      <th>loc_MCO</th>\n",
       "      <th>loc_MIA</th>\n",
       "      <th>loc_ORD</th>\n",
       "      <th>loc_PHX</th>\n",
       "      <th>loc_SEA</th>\n",
       "      <th>loc_SFO</th>\n",
       "    </tr>\n",
       "  </thead>\n",
       "  <tbody>\n",
       "    <tr>\n",
       "      <th>0</th>\n",
       "      <td>1</td>\n",
       "      <td>0</td>\n",
       "      <td>1</td>\n",
       "      <td>1</td>\n",
       "      <td>808.0</td>\n",
       "      <td>0.0</td>\n",
       "      <td>810</td>\n",
       "      <td>0.0</td>\n",
       "      <td>0</td>\n",
       "      <td>10</td>\n",
       "      <td>1016</td>\n",
       "      <td>17</td>\n",
       "      <td>318</td>\n",
       "      <td>3</td>\n",
       "      <td>0.0</td>\n",
       "      <td>10</td>\n",
       "      <td>1025</td>\n",
       "      <td>100</td>\n",
       "      <td>38</td>\n",
       "      <td>23</td>\n",
       "      <td>42</td>\n",
       "      <td>34</td>\n",
       "      <td>92</td>\n",
       "      <td>8</td>\n",
       "      <td>0</td>\n",
       "      <td>0</td>\n",
       "      <td>0</td>\n",
       "      <td>0</td>\n",
       "      <td>0</td>\n",
       "      <td>0</td>\n",
       "      <td>0</td>\n",
       "      <td>0</td>\n",
       "      <td>0</td>\n",
       "      <td>0</td>\n",
       "      <td>0</td>\n",
       "      <td>0</td>\n",
       "      <td>0</td>\n",
       "      <td>0</td>\n",
       "    </tr>\n",
       "    <tr>\n",
       "      <th>1</th>\n",
       "      <td>1</td>\n",
       "      <td>0</td>\n",
       "      <td>1</td>\n",
       "      <td>1</td>\n",
       "      <td>810.0</td>\n",
       "      <td>0.0</td>\n",
       "      <td>812</td>\n",
       "      <td>0.0</td>\n",
       "      <td>0</td>\n",
       "      <td>3</td>\n",
       "      <td>943</td>\n",
       "      <td>17</td>\n",
       "      <td>318</td>\n",
       "      <td>3</td>\n",
       "      <td>0.0</td>\n",
       "      <td>10</td>\n",
       "      <td>1025</td>\n",
       "      <td>100</td>\n",
       "      <td>38</td>\n",
       "      <td>23</td>\n",
       "      <td>42</td>\n",
       "      <td>34</td>\n",
       "      <td>92</td>\n",
       "      <td>8</td>\n",
       "      <td>0</td>\n",
       "      <td>0</td>\n",
       "      <td>0</td>\n",
       "      <td>0</td>\n",
       "      <td>0</td>\n",
       "      <td>0</td>\n",
       "      <td>0</td>\n",
       "      <td>0</td>\n",
       "      <td>0</td>\n",
       "      <td>0</td>\n",
       "      <td>0</td>\n",
       "      <td>0</td>\n",
       "      <td>0</td>\n",
       "      <td>0</td>\n",
       "    </tr>\n",
       "    <tr>\n",
       "      <th>2</th>\n",
       "      <td>1</td>\n",
       "      <td>0</td>\n",
       "      <td>1</td>\n",
       "      <td>1</td>\n",
       "      <td>852.0</td>\n",
       "      <td>0.0</td>\n",
       "      <td>850</td>\n",
       "      <td>2.0</td>\n",
       "      <td>0</td>\n",
       "      <td>1</td>\n",
       "      <td>1009</td>\n",
       "      <td>17</td>\n",
       "      <td>318</td>\n",
       "      <td>3</td>\n",
       "      <td>0.0</td>\n",
       "      <td>10</td>\n",
       "      <td>1025</td>\n",
       "      <td>100</td>\n",
       "      <td>38</td>\n",
       "      <td>23</td>\n",
       "      <td>42</td>\n",
       "      <td>34</td>\n",
       "      <td>92</td>\n",
       "      <td>8</td>\n",
       "      <td>0</td>\n",
       "      <td>0</td>\n",
       "      <td>0</td>\n",
       "      <td>0</td>\n",
       "      <td>0</td>\n",
       "      <td>0</td>\n",
       "      <td>0</td>\n",
       "      <td>0</td>\n",
       "      <td>0</td>\n",
       "      <td>0</td>\n",
       "      <td>0</td>\n",
       "      <td>0</td>\n",
       "      <td>0</td>\n",
       "      <td>0</td>\n",
       "    </tr>\n",
       "    <tr>\n",
       "      <th>3</th>\n",
       "      <td>1</td>\n",
       "      <td>0</td>\n",
       "      <td>1</td>\n",
       "      <td>1</td>\n",
       "      <td>900.0</td>\n",
       "      <td>0.0</td>\n",
       "      <td>855</td>\n",
       "      <td>5.0</td>\n",
       "      <td>0</td>\n",
       "      <td>10</td>\n",
       "      <td>1045</td>\n",
       "      <td>17</td>\n",
       "      <td>318</td>\n",
       "      <td>3</td>\n",
       "      <td>0.0</td>\n",
       "      <td>10</td>\n",
       "      <td>1025</td>\n",
       "      <td>100</td>\n",
       "      <td>38</td>\n",
       "      <td>23</td>\n",
       "      <td>42</td>\n",
       "      <td>34</td>\n",
       "      <td>92</td>\n",
       "      <td>8</td>\n",
       "      <td>0</td>\n",
       "      <td>0</td>\n",
       "      <td>0</td>\n",
       "      <td>0</td>\n",
       "      <td>0</td>\n",
       "      <td>0</td>\n",
       "      <td>0</td>\n",
       "      <td>0</td>\n",
       "      <td>0</td>\n",
       "      <td>0</td>\n",
       "      <td>0</td>\n",
       "      <td>0</td>\n",
       "      <td>0</td>\n",
       "      <td>0</td>\n",
       "    </tr>\n",
       "    <tr>\n",
       "      <th>4</th>\n",
       "      <td>1</td>\n",
       "      <td>0</td>\n",
       "      <td>1</td>\n",
       "      <td>1</td>\n",
       "      <td>849.0</td>\n",
       "      <td>0.0</td>\n",
       "      <td>850</td>\n",
       "      <td>0.0</td>\n",
       "      <td>0</td>\n",
       "      <td>3</td>\n",
       "      <td>1016</td>\n",
       "      <td>17</td>\n",
       "      <td>318</td>\n",
       "      <td>3</td>\n",
       "      <td>0.0</td>\n",
       "      <td>10</td>\n",
       "      <td>1025</td>\n",
       "      <td>100</td>\n",
       "      <td>38</td>\n",
       "      <td>23</td>\n",
       "      <td>42</td>\n",
       "      <td>34</td>\n",
       "      <td>92</td>\n",
       "      <td>8</td>\n",
       "      <td>0</td>\n",
       "      <td>0</td>\n",
       "      <td>0</td>\n",
       "      <td>0</td>\n",
       "      <td>0</td>\n",
       "      <td>0</td>\n",
       "      <td>0</td>\n",
       "      <td>0</td>\n",
       "      <td>0</td>\n",
       "      <td>0</td>\n",
       "      <td>0</td>\n",
       "      <td>0</td>\n",
       "      <td>0</td>\n",
       "      <td>0</td>\n",
       "    </tr>\n",
       "    <tr>\n",
       "      <th>...</th>\n",
       "      <td>...</td>\n",
       "      <td>...</td>\n",
       "      <td>...</td>\n",
       "      <td>...</td>\n",
       "      <td>...</td>\n",
       "      <td>...</td>\n",
       "      <td>...</td>\n",
       "      <td>...</td>\n",
       "      <td>...</td>\n",
       "      <td>...</td>\n",
       "      <td>...</td>\n",
       "      <td>...</td>\n",
       "      <td>...</td>\n",
       "      <td>...</td>\n",
       "      <td>...</td>\n",
       "      <td>...</td>\n",
       "      <td>...</td>\n",
       "      <td>...</td>\n",
       "      <td>...</td>\n",
       "      <td>...</td>\n",
       "      <td>...</td>\n",
       "      <td>...</td>\n",
       "      <td>...</td>\n",
       "      <td>...</td>\n",
       "      <td>...</td>\n",
       "      <td>...</td>\n",
       "      <td>...</td>\n",
       "      <td>...</td>\n",
       "      <td>...</td>\n",
       "      <td>...</td>\n",
       "      <td>...</td>\n",
       "      <td>...</td>\n",
       "      <td>...</td>\n",
       "      <td>...</td>\n",
       "      <td>...</td>\n",
       "      <td>...</td>\n",
       "      <td>...</td>\n",
       "      <td>...</td>\n",
       "    </tr>\n",
       "    <tr>\n",
       "      <th>1851431</th>\n",
       "      <td>4</td>\n",
       "      <td>1</td>\n",
       "      <td>12</td>\n",
       "      <td>2</td>\n",
       "      <td>456.0</td>\n",
       "      <td>0.0</td>\n",
       "      <td>504</td>\n",
       "      <td>0.0</td>\n",
       "      <td>14</td>\n",
       "      <td>2</td>\n",
       "      <td>838</td>\n",
       "      <td>5</td>\n",
       "      <td>20</td>\n",
       "      <td>11</td>\n",
       "      <td>0.0</td>\n",
       "      <td>10</td>\n",
       "      <td>1017</td>\n",
       "      <td>100</td>\n",
       "      <td>47</td>\n",
       "      <td>8</td>\n",
       "      <td>48</td>\n",
       "      <td>47</td>\n",
       "      <td>97</td>\n",
       "      <td>5</td>\n",
       "      <td>0</td>\n",
       "      <td>0</td>\n",
       "      <td>0</td>\n",
       "      <td>0</td>\n",
       "      <td>0</td>\n",
       "      <td>0</td>\n",
       "      <td>0</td>\n",
       "      <td>0</td>\n",
       "      <td>0</td>\n",
       "      <td>0</td>\n",
       "      <td>0</td>\n",
       "      <td>0</td>\n",
       "      <td>0</td>\n",
       "      <td>1</td>\n",
       "    </tr>\n",
       "    <tr>\n",
       "      <th>1851432</th>\n",
       "      <td>4</td>\n",
       "      <td>1</td>\n",
       "      <td>12</td>\n",
       "      <td>2</td>\n",
       "      <td>522.0</td>\n",
       "      <td>0.0</td>\n",
       "      <td>530</td>\n",
       "      <td>0.0</td>\n",
       "      <td>14</td>\n",
       "      <td>5</td>\n",
       "      <td>1107</td>\n",
       "      <td>5</td>\n",
       "      <td>20</td>\n",
       "      <td>11</td>\n",
       "      <td>0.0</td>\n",
       "      <td>10</td>\n",
       "      <td>1017</td>\n",
       "      <td>100</td>\n",
       "      <td>47</td>\n",
       "      <td>8</td>\n",
       "      <td>48</td>\n",
       "      <td>47</td>\n",
       "      <td>97</td>\n",
       "      <td>5</td>\n",
       "      <td>0</td>\n",
       "      <td>0</td>\n",
       "      <td>0</td>\n",
       "      <td>0</td>\n",
       "      <td>0</td>\n",
       "      <td>0</td>\n",
       "      <td>0</td>\n",
       "      <td>0</td>\n",
       "      <td>0</td>\n",
       "      <td>0</td>\n",
       "      <td>0</td>\n",
       "      <td>0</td>\n",
       "      <td>0</td>\n",
       "      <td>1</td>\n",
       "    </tr>\n",
       "    <tr>\n",
       "      <th>1851433</th>\n",
       "      <td>4</td>\n",
       "      <td>1</td>\n",
       "      <td>12</td>\n",
       "      <td>2</td>\n",
       "      <td>54.0</td>\n",
       "      <td>0.0</td>\n",
       "      <td>104</td>\n",
       "      <td>0.0</td>\n",
       "      <td>14</td>\n",
       "      <td>5</td>\n",
       "      <td>638</td>\n",
       "      <td>4</td>\n",
       "      <td>159</td>\n",
       "      <td>11</td>\n",
       "      <td>0.0</td>\n",
       "      <td>10</td>\n",
       "      <td>1017</td>\n",
       "      <td>100</td>\n",
       "      <td>49</td>\n",
       "      <td>7</td>\n",
       "      <td>50</td>\n",
       "      <td>50</td>\n",
       "      <td>98</td>\n",
       "      <td>1</td>\n",
       "      <td>0</td>\n",
       "      <td>0</td>\n",
       "      <td>0</td>\n",
       "      <td>0</td>\n",
       "      <td>0</td>\n",
       "      <td>0</td>\n",
       "      <td>0</td>\n",
       "      <td>0</td>\n",
       "      <td>0</td>\n",
       "      <td>0</td>\n",
       "      <td>0</td>\n",
       "      <td>0</td>\n",
       "      <td>0</td>\n",
       "      <td>1</td>\n",
       "    </tr>\n",
       "    <tr>\n",
       "      <th>1851434</th>\n",
       "      <td>4</td>\n",
       "      <td>1</td>\n",
       "      <td>12</td>\n",
       "      <td>18</td>\n",
       "      <td>103.0</td>\n",
       "      <td>0.0</td>\n",
       "      <td>104</td>\n",
       "      <td>0.0</td>\n",
       "      <td>14</td>\n",
       "      <td>5</td>\n",
       "      <td>640</td>\n",
       "      <td>5</td>\n",
       "      <td>22</td>\n",
       "      <td>0</td>\n",
       "      <td>0.0</td>\n",
       "      <td>10</td>\n",
       "      <td>1020</td>\n",
       "      <td>1</td>\n",
       "      <td>47</td>\n",
       "      <td>9</td>\n",
       "      <td>60</td>\n",
       "      <td>60</td>\n",
       "      <td>63</td>\n",
       "      <td>1</td>\n",
       "      <td>0</td>\n",
       "      <td>0</td>\n",
       "      <td>0</td>\n",
       "      <td>0</td>\n",
       "      <td>0</td>\n",
       "      <td>0</td>\n",
       "      <td>0</td>\n",
       "      <td>0</td>\n",
       "      <td>0</td>\n",
       "      <td>0</td>\n",
       "      <td>0</td>\n",
       "      <td>0</td>\n",
       "      <td>0</td>\n",
       "      <td>1</td>\n",
       "    </tr>\n",
       "    <tr>\n",
       "      <th>1851435</th>\n",
       "      <td>4</td>\n",
       "      <td>1</td>\n",
       "      <td>12</td>\n",
       "      <td>17</td>\n",
       "      <td>110.0</td>\n",
       "      <td>0.0</td>\n",
       "      <td>104</td>\n",
       "      <td>6.0</td>\n",
       "      <td>14</td>\n",
       "      <td>5</td>\n",
       "      <td>640</td>\n",
       "      <td>15</td>\n",
       "      <td>13</td>\n",
       "      <td>0</td>\n",
       "      <td>0.0</td>\n",
       "      <td>10</td>\n",
       "      <td>1016</td>\n",
       "      <td>0</td>\n",
       "      <td>27</td>\n",
       "      <td>38</td>\n",
       "      <td>50</td>\n",
       "      <td>46</td>\n",
       "      <td>39</td>\n",
       "      <td>1</td>\n",
       "      <td>0</td>\n",
       "      <td>0</td>\n",
       "      <td>0</td>\n",
       "      <td>0</td>\n",
       "      <td>0</td>\n",
       "      <td>0</td>\n",
       "      <td>0</td>\n",
       "      <td>0</td>\n",
       "      <td>0</td>\n",
       "      <td>0</td>\n",
       "      <td>0</td>\n",
       "      <td>0</td>\n",
       "      <td>0</td>\n",
       "      <td>1</td>\n",
       "    </tr>\n",
       "  </tbody>\n",
       "</table>\n",
       "<p>1851433 rows × 38 columns</p>\n",
       "</div>"
      ],
      "text/plain": [
       "         Quarter  Year  Month  DayofMonth  DepTime  DepDel15  CRSDepTime  \\\n",
       "0              1     0      1           1    808.0       0.0         810   \n",
       "1              1     0      1           1    810.0       0.0         812   \n",
       "2              1     0      1           1    852.0       0.0         850   \n",
       "3              1     0      1           1    900.0       0.0         855   \n",
       "4              1     0      1           1    849.0       0.0         850   \n",
       "...          ...   ...    ...         ...      ...       ...         ...   \n",
       "1851431        4     1     12           2    456.0       0.0         504   \n",
       "1851432        4     1     12           2    522.0       0.0         530   \n",
       "1851433        4     1     12           2     54.0       0.0         104   \n",
       "1851434        4     1     12          18    103.0       0.0         104   \n",
       "1851435        4     1     12          17    110.0       0.0         104   \n",
       "\n",
       "         DepDelayMinutes  OriginAirportID  DestAirportID  CRSArrTime  \\\n",
       "0                    0.0                0             10        1016   \n",
       "1                    0.0                0              3         943   \n",
       "2                    2.0                0              1        1009   \n",
       "3                    5.0                0             10        1045   \n",
       "4                    0.0                0              3        1016   \n",
       "...                  ...              ...            ...         ...   \n",
       "1851431              0.0               14              2         838   \n",
       "1851432              0.0               14              5        1107   \n",
       "1851433              0.0               14              5         638   \n",
       "1851434              0.0               14              5         640   \n",
       "1851435              6.0               14              5         640   \n",
       "\n",
       "         windspeedKmph  winddirDegree  weatherCode  precipMM  visibility  \\\n",
       "0                   17            318            3       0.0          10   \n",
       "1                   17            318            3       0.0          10   \n",
       "2                   17            318            3       0.0          10   \n",
       "3                   17            318            3       0.0          10   \n",
       "4                   17            318            3       0.0          10   \n",
       "...                ...            ...          ...       ...         ...   \n",
       "1851431              5             20           11       0.0          10   \n",
       "1851432              5             20           11       0.0          10   \n",
       "1851433              4            159           11       0.0          10   \n",
       "1851434              5             22            0       0.0          10   \n",
       "1851435             15             13            0       0.0          10   \n",
       "\n",
       "         pressure  cloudcover  DewPointF  WindGustKmph  tempF  WindChillF  \\\n",
       "0            1025         100         38            23     42          34   \n",
       "1            1025         100         38            23     42          34   \n",
       "2            1025         100         38            23     42          34   \n",
       "3            1025         100         38            23     42          34   \n",
       "4            1025         100         38            23     42          34   \n",
       "...           ...         ...        ...           ...    ...         ...   \n",
       "1851431      1017         100         47             8     48          47   \n",
       "1851432      1017         100         47             8     48          47   \n",
       "1851433      1017         100         49             7     50          50   \n",
       "1851434      1020           1         47             9     60          60   \n",
       "1851435      1016           0         27            38     50          46   \n",
       "\n",
       "         humidity  time  loc_CLT  loc_DEN  loc_DFW  loc_EWR  loc_IAH  loc_JFK  \\\n",
       "0              92     8        0        0        0        0        0        0   \n",
       "1              92     8        0        0        0        0        0        0   \n",
       "2              92     8        0        0        0        0        0        0   \n",
       "3              92     8        0        0        0        0        0        0   \n",
       "4              92     8        0        0        0        0        0        0   \n",
       "...           ...   ...      ...      ...      ...      ...      ...      ...   \n",
       "1851431        97     5        0        0        0        0        0        0   \n",
       "1851432        97     5        0        0        0        0        0        0   \n",
       "1851433        98     1        0        0        0        0        0        0   \n",
       "1851434        63     1        0        0        0        0        0        0   \n",
       "1851435        39     1        0        0        0        0        0        0   \n",
       "\n",
       "         loc_LAS  loc_LAX  loc_MCO  loc_MIA  loc_ORD  loc_PHX  loc_SEA  \\\n",
       "0              0        0        0        0        0        0        0   \n",
       "1              0        0        0        0        0        0        0   \n",
       "2              0        0        0        0        0        0        0   \n",
       "3              0        0        0        0        0        0        0   \n",
       "4              0        0        0        0        0        0        0   \n",
       "...          ...      ...      ...      ...      ...      ...      ...   \n",
       "1851431        0        0        0        0        0        0        0   \n",
       "1851432        0        0        0        0        0        0        0   \n",
       "1851433        0        0        0        0        0        0        0   \n",
       "1851434        0        0        0        0        0        0        0   \n",
       "1851435        0        0        0        0        0        0        0   \n",
       "\n",
       "         loc_SFO  \n",
       "0              0  \n",
       "1              0  \n",
       "2              0  \n",
       "3              0  \n",
       "4              0  \n",
       "...          ...  \n",
       "1851431        1  \n",
       "1851432        1  \n",
       "1851433        1  \n",
       "1851434        1  \n",
       "1851435        1  \n",
       "\n",
       "[1851433 rows x 38 columns]"
      ]
     },
     "execution_count": 6,
     "metadata": {
      "tags": []
     },
     "output_type": "execute_result"
    }
   ],
   "source": [
    "le =preprocessing.LabelEncoder()\n",
    "df=pd.read_csv(\"/content/drive/My Drive/maindataframe.csv\")\n",
    "dummpy_data_frame=df.copy()\n",
    "df=df.iloc[:,1:31]\n",
    "df.drop_duplicates(inplace=True)\n",
    "y=df.ArrDel15.values\n",
    "df.drop([\"date\",\"FlightDate\",\"ArrTime\",\"ArrDel15\",\"ArrDelayMinutes\"],axis=1,inplace=True)\n",
    "df.Year=np.where(df.Year==2016,0,1)\n",
    "df=pd.get_dummies(df,drop_first=True)\n",
    "df[\"OriginAirportID\"]=le.fit_transform(df.OriginAirportID)\n",
    "df[\"DestAirportID\"]=le.fit_transform(df.DestAirportID)\n",
    "df[\"weatherCode\"]=le.fit_transform(df.weatherCode)\n",
    "df[\"cloudcover\"]=le.fit_transform(df.cloudcover)\n",
    "x=df\n",
    "x=x.values\n",
    "df\n"
   ]
  },
  {
   "cell_type": "code",
   "execution_count": 19,
   "metadata": {
    "colab": {
     "base_uri": "https://localhost:8080/",
     "height": 34
    },
    "colab_type": "code",
    "executionInfo": {
     "elapsed": 1905,
     "status": "ok",
     "timestamp": 1581824250457,
     "user": {
      "displayName": "Sujay S",
      "photoUrl": "",
      "userId": "00910928364704092992"
     },
     "user_tz": -330
    },
    "id": "OD1Qw9CUz9Gv",
    "outputId": "bab017b8-e8c8-42b9-cf1e-f320e5939245"
   },
   "outputs": [
    {
     "data": {
      "text/plain": [
       "(185144,)"
      ]
     },
     "execution_count": 19,
     "metadata": {
      "tags": []
     },
     "output_type": "execute_result"
    }
   ],
   "source": [
    "from sklearn.model_selection import train_test_split\n",
    "x_train, x_test, y_train, y_test = train_test_split(x, y, test_size = 0.1, random_state = 0)\n",
    "y_test.shape"
   ]
  },
  {
   "cell_type": "code",
   "execution_count": 0,
   "metadata": {
    "colab": {},
    "colab_type": "code",
    "id": "rvyLBQu20A0v"
   },
   "outputs": [],
   "source": [
    "\n",
    "from sklearn.preprocessing import StandardScaler\n",
    "sc = StandardScaler()\n",
    "x_train = sc.fit_transform(x_train)\n",
    "x_test = sc.transform(x_test)\n",
    "\n"
   ]
  },
  {
   "cell_type": "code",
   "execution_count": 21,
   "metadata": {
    "colab": {
     "base_uri": "https://localhost:8080/",
     "height": 34
    },
    "colab_type": "code",
    "executionInfo": {
     "elapsed": 882,
     "status": "ok",
     "timestamp": 1581824260136,
     "user": {
      "displayName": "Sujay S",
      "photoUrl": "",
      "userId": "00910928364704092992"
     },
     "user_tz": -330
    },
    "id": "BPHSesiKEkp5",
    "outputId": "35200f37-e675-44a9-bb41-13ebb30ee67b"
   },
   "outputs": [
    {
     "data": {
      "text/plain": [
       "(185144, 38)"
      ]
     },
     "execution_count": 21,
     "metadata": {
      "tags": []
     },
     "output_type": "execute_result"
    }
   ],
   "source": [
    "x_test.shape"
   ]
  },
  {
   "cell_type": "code",
   "execution_count": 22,
   "metadata": {
    "colab": {
     "base_uri": "https://localhost:8080/",
     "height": 134
    },
    "colab_type": "code",
    "executionInfo": {
     "elapsed": 872,
     "status": "ok",
     "timestamp": 1581824263624,
     "user": {
      "displayName": "Sujay S",
      "photoUrl": "",
      "userId": "00910928364704092992"
     },
     "user_tz": -330
    },
    "id": "myeFZjAF0CpX",
    "outputId": "399ae181-b96f-4e56-d47f-88da92a474af"
   },
   "outputs": [
    {
     "data": {
      "text/plain": [
       "XGBClassifier(base_score=0.5, booster='gbtree', colsample_bylevel=1,\n",
       "              colsample_bynode=1, colsample_bytree=0.8, gamma=0,\n",
       "              learning_rate=0.1, max_delta_step=0, max_depth=4,\n",
       "              min_child_weight=6, missing=nan, n_estimators=1000, n_jobs=1,\n",
       "              nthread=4, objective='binary:logistic', random_state=0,\n",
       "              reg_alpha=0.005, reg_lambda=1, scale_pos_weight=1, seed=27,\n",
       "              silent=None, subsample=0.8, verbosity=1)"
      ]
     },
     "execution_count": 22,
     "metadata": {
      "tags": []
     },
     "output_type": "execute_result"
    }
   ],
   "source": [
    "with open(\"/content/drive/My Drive/classifier.pkl\", 'rb') as file:  \n",
    "    classifier= pickle.load(file)\n",
    "\n",
    "classifier"
   ]
  },
  {
   "cell_type": "code",
   "execution_count": 23,
   "metadata": {
    "colab": {
     "base_uri": "https://localhost:8080/",
     "height": 151
    },
    "colab_type": "code",
    "executionInfo": {
     "elapsed": 752,
     "status": "ok",
     "timestamp": 1581824264710,
     "user": {
      "displayName": "Sujay S",
      "photoUrl": "",
      "userId": "00910928364704092992"
     },
     "user_tz": -330
    },
    "id": "Plnnm0bs0c6Z",
    "outputId": "2776352f-2c89-4bb2-8213-31c47cc90b6a"
   },
   "outputs": [
    {
     "name": "stdout",
     "output_type": "stream",
     "text": [
      "[03:37:43] WARNING: /workspace/src/objective/regression_obj.cu:152: reg:linear is now deprecated in favor of reg:squarederror.\n"
     ]
    },
    {
     "data": {
      "text/plain": [
       "XGBRegressor(base_score=0.5, booster='gbtree', colsample_bylevel=1,\n",
       "             colsample_bynode=1, colsample_bytree=1, gamma=0,\n",
       "             importance_type='gain', learning_rate=0.1, max_delta_step=0,\n",
       "             max_depth=3, min_child_weight=1, missing=nan, n_estimators=100,\n",
       "             n_jobs=1, nthread=None, objective='reg:linear', random_state=0,\n",
       "             reg_alpha=0, reg_lambda=1, scale_pos_weight=1, seed=None,\n",
       "             silent=None, subsample=1, verbosity=1)"
      ]
     },
     "execution_count": 23,
     "metadata": {
      "tags": []
     },
     "output_type": "execute_result"
    }
   ],
   "source": [
    "with open(\"/content/drive/My Drive/regression.pkl\", 'rb') as file:  \n",
    "    regressor= pickle.load(file)\n",
    "\n",
    "regressor"
   ]
  },
  {
   "cell_type": "code",
   "execution_count": 0,
   "metadata": {
    "colab": {},
    "colab_type": "code",
    "id": "aib-Egvu1F2-"
   },
   "outputs": [],
   "source": [
    "y_pred=classifier.predict(x_test)"
   ]
  },
  {
   "cell_type": "code",
   "execution_count": 25,
   "metadata": {
    "colab": {
     "base_uri": "https://localhost:8080/",
     "height": 34
    },
    "colab_type": "code",
    "executionInfo": {
     "elapsed": 796,
     "status": "ok",
     "timestamp": 1581824276843,
     "user": {
      "displayName": "Sujay S",
      "photoUrl": "",
      "userId": "00910928364704092992"
     },
     "user_tz": -330
    },
    "id": "7NYd1kyYEa4Q",
    "outputId": "3530a53d-48d5-4b58-bf3d-9a6ba6bccab1"
   },
   "outputs": [
    {
     "data": {
      "text/plain": [
       "(185144, 38)"
      ]
     },
     "execution_count": 25,
     "metadata": {
      "tags": []
     },
     "output_type": "execute_result"
    }
   ],
   "source": [
    "x_test.shape"
   ]
  },
  {
   "cell_type": "code",
   "execution_count": 0,
   "metadata": {
    "colab": {},
    "colab_type": "code",
    "id": "vapoxb_71Rv6"
   },
   "outputs": [],
   "source": [
    "data=pd.DataFrame(x_test)\n",
    "data[\"delayed\"]=y_pred\n",
    "data=data.loc[data.delayed==1]\n",
    "data=data.drop([\"delayed\"],axis=1)\n",
    "x_new=data.values"
   ]
  },
  {
   "cell_type": "code",
   "execution_count": 29,
   "metadata": {
    "colab": {
     "base_uri": "https://localhost:8080/",
     "height": 34
    },
    "colab_type": "code",
    "executionInfo": {
     "elapsed": 802,
     "status": "ok",
     "timestamp": 1581824309058,
     "user": {
      "displayName": "Sujay S",
      "photoUrl": "",
      "userId": "00910928364704092992"
     },
     "user_tz": -330
    },
    "id": "MRqbspptEQIM",
    "outputId": "7c4d9d7e-406e-4bd9-e0de-31e6bc489a64"
   },
   "outputs": [
    {
     "data": {
      "text/plain": [
       "(29765, 38)"
      ]
     },
     "execution_count": 29,
     "metadata": {
      "tags": []
     },
     "output_type": "execute_result"
    }
   ],
   "source": [
    "x_new.shape"
   ]
  },
  {
   "cell_type": "code",
   "execution_count": 0,
   "metadata": {
    "colab": {},
    "colab_type": "code",
    "id": "tbtp3DgY2oKK"
   },
   "outputs": [],
   "source": [
    "\n",
    "ypred2=regressor.predict(x_new)\n"
   ]
  },
  {
   "cell_type": "code",
   "execution_count": 31,
   "metadata": {
    "colab": {
     "base_uri": "https://localhost:8080/",
     "height": 50
    },
    "colab_type": "code",
    "executionInfo": {
     "elapsed": 863,
     "status": "ok",
     "timestamp": 1581824325839,
     "user": {
      "displayName": "Sujay S",
      "photoUrl": "",
      "userId": "00910928364704092992"
     },
     "user_tz": -330
    },
    "id": "frYQBdSCE6Ee",
    "outputId": "1c1a08c6-0871-4947-ce6b-37bc7ea8cfea"
   },
   "outputs": [
    {
     "data": {
      "text/plain": [
       "array([187.92696 ,  99.63959 , 118.428665, ..., 103.16022 , 238.35896 ,\n",
       "        94.20913 ], dtype=float32)"
      ]
     },
     "execution_count": 31,
     "metadata": {
      "tags": []
     },
     "output_type": "execute_result"
    }
   ],
   "source": [
    "ypred2"
   ]
  }
 ],
 "metadata": {
  "colab": {
   "authorship_tag": "ABX9TyO/2som4hvbSODpm0eEZ0Ra",
   "collapsed_sections": [],
   "mount_file_id": "1l6_PsBTeb48aLUBJDkrkZjfRK1gHzDBm",
   "name": "pipeline.ipynb",
   "provenance": [],
   "toc_visible": true
  },
  "kernelspec": {
   "display_name": "Python 3 (ipykernel)",
   "language": "python",
   "name": "python3"
  },
  "language_info": {
   "codemirror_mode": {
    "name": "ipython",
    "version": 3
   },
   "file_extension": ".py",
   "mimetype": "text/x-python",
   "name": "python",
   "nbconvert_exporter": "python",
   "pygments_lexer": "ipython3",
   "version": "3.9.6"
  }
 },
 "nbformat": 4,
 "nbformat_minor": 1
}
