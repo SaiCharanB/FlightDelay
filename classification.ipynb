{
 "cells": [
  {
   "cell_type": "code",
   "execution_count": 0,
   "metadata": {
    "colab": {},
    "colab_type": "code",
    "id": "x_fWdjSPvy8E"
   },
   "outputs": [],
   "source": [
    "\n",
    "import pandas as pd\n",
    "import numpy as np\n",
    "import matplotlib.pyplot as plt\n",
    "from sklearn.metrics import accuracy_score\n",
    "pd.set_option('display.max_columns', 130)\n",
    "from sklearn import preprocessing\n",
    "from sklearn.metrics import recall_score\n",
    "from sklearn.metrics import precision_score\n",
    "from sklearn.metrics import f1_score\n",
    "from sklearn.metrics import  classification_report\n",
    "from imblearn.over_sampling import SMOTE, RandomOverSampler\n",
    "from imblearn.under_sampling import RandomUnderSampler"
   ]
  },
  {
   "cell_type": "code",
   "execution_count": 0,
   "metadata": {
    "colab": {},
    "colab_type": "code",
    "id": "7fZ6tEUKJhCj"
   },
   "outputs": [],
   "source": [
    "le =preprocessing.LabelEncoder()\n",
    "df=pd.read_csv(\"/content/drive/My Drive/maindataframe.csv\")\n",
    "dummpy_data_frame=df.copy()\n",
    "df=df.iloc[:,1:31]\n",
    "df.drop_duplicates(inplace=True)\n",
    "y=df.ArrDel15.values\n",
    "df.drop([\"date\",\"FlightDate\",\"ArrTime\",\"ArrDel15\",\"ArrDelayMinutes\"],axis=1,inplace=True)\n",
    "df.Year=np.where(df.Year==2016,0,1)\n",
    "df=pd.get_dummies(df,drop_first=True)\n",
    "df[\"OriginAirportID\"]=le.fit_transform(df.OriginAirportID)\n",
    "df[\"DestAirportID\"]=le.fit_transform(df.DestAirportID)\n",
    "df[\"weatherCode\"]=le.fit_transform(df.weatherCode)\n",
    "df[\"cloudcover\"]=le.fit_transform(df.cloudcover)\n",
    "\n",
    "\n",
    "\n"
   ]
  },
  {
   "cell_type": "markdown",
   "metadata": {
    "colab_type": "text",
    "id": "bUse4-Lh5iXf"
   },
   "source": [
    "# New Section"
   ]
  },
  {
   "cell_type": "markdown",
   "metadata": {
    "colab_type": "text",
    "id": "2IvMpTtZL3If"
   },
   "source": []
  },
  {
   "cell_type": "code",
   "execution_count": 17,
   "metadata": {
    "colab": {
     "base_uri": "https://localhost:8080/",
     "height": 422
    },
    "colab_type": "code",
    "executionInfo": {
     "elapsed": 3899,
     "status": "ok",
     "timestamp": 1581737349488,
     "user": {
      "displayName": "Sujay S",
      "photoUrl": "",
      "userId": "00910928364704092992"
     },
     "user_tz": -330
    },
    "id": "CHVTsILBKVN6",
    "outputId": "1fa20f3b-4a3f-420a-f021-e802f17ea320"
   },
   "outputs": [
    {
     "data": {
      "text/html": [
       "<div>\n",
       "<style scoped>\n",
       "    .dataframe tbody tr th:only-of-type {\n",
       "        vertical-align: middle;\n",
       "    }\n",
       "\n",
       "    .dataframe tbody tr th {\n",
       "        vertical-align: top;\n",
       "    }\n",
       "\n",
       "    .dataframe thead th {\n",
       "        text-align: right;\n",
       "    }\n",
       "</style>\n",
       "<table border=\"1\" class=\"dataframe\">\n",
       "  <thead>\n",
       "    <tr style=\"text-align: right;\">\n",
       "      <th></th>\n",
       "      <th>Quarter</th>\n",
       "      <th>Year</th>\n",
       "      <th>Month</th>\n",
       "      <th>DayofMonth</th>\n",
       "      <th>DepTime</th>\n",
       "      <th>DepDel15</th>\n",
       "      <th>CRSDepTime</th>\n",
       "      <th>DepDelayMinutes</th>\n",
       "      <th>OriginAirportID</th>\n",
       "      <th>DestAirportID</th>\n",
       "      <th>CRSArrTime</th>\n",
       "      <th>windspeedKmph</th>\n",
       "      <th>winddirDegree</th>\n",
       "      <th>weatherCode</th>\n",
       "      <th>precipMM</th>\n",
       "      <th>visibility</th>\n",
       "      <th>pressure</th>\n",
       "      <th>cloudcover</th>\n",
       "      <th>DewPointF</th>\n",
       "      <th>WindGustKmph</th>\n",
       "      <th>tempF</th>\n",
       "      <th>WindChillF</th>\n",
       "      <th>humidity</th>\n",
       "      <th>time</th>\n",
       "      <th>loc_CLT</th>\n",
       "      <th>loc_DEN</th>\n",
       "      <th>loc_DFW</th>\n",
       "      <th>loc_EWR</th>\n",
       "      <th>loc_IAH</th>\n",
       "      <th>loc_JFK</th>\n",
       "      <th>loc_LAS</th>\n",
       "      <th>loc_LAX</th>\n",
       "      <th>loc_MCO</th>\n",
       "      <th>loc_MIA</th>\n",
       "      <th>loc_ORD</th>\n",
       "      <th>loc_PHX</th>\n",
       "      <th>loc_SEA</th>\n",
       "      <th>loc_SFO</th>\n",
       "    </tr>\n",
       "  </thead>\n",
       "  <tbody>\n",
       "    <tr>\n",
       "      <th>0</th>\n",
       "      <td>1</td>\n",
       "      <td>0</td>\n",
       "      <td>1</td>\n",
       "      <td>1</td>\n",
       "      <td>808.0</td>\n",
       "      <td>0.0</td>\n",
       "      <td>810</td>\n",
       "      <td>0.0</td>\n",
       "      <td>0</td>\n",
       "      <td>10</td>\n",
       "      <td>1016</td>\n",
       "      <td>17</td>\n",
       "      <td>318</td>\n",
       "      <td>3</td>\n",
       "      <td>0.0</td>\n",
       "      <td>10</td>\n",
       "      <td>1025</td>\n",
       "      <td>100</td>\n",
       "      <td>38</td>\n",
       "      <td>23</td>\n",
       "      <td>42</td>\n",
       "      <td>34</td>\n",
       "      <td>92</td>\n",
       "      <td>8</td>\n",
       "      <td>0</td>\n",
       "      <td>0</td>\n",
       "      <td>0</td>\n",
       "      <td>0</td>\n",
       "      <td>0</td>\n",
       "      <td>0</td>\n",
       "      <td>0</td>\n",
       "      <td>0</td>\n",
       "      <td>0</td>\n",
       "      <td>0</td>\n",
       "      <td>0</td>\n",
       "      <td>0</td>\n",
       "      <td>0</td>\n",
       "      <td>0</td>\n",
       "    </tr>\n",
       "    <tr>\n",
       "      <th>1</th>\n",
       "      <td>1</td>\n",
       "      <td>0</td>\n",
       "      <td>1</td>\n",
       "      <td>1</td>\n",
       "      <td>810.0</td>\n",
       "      <td>0.0</td>\n",
       "      <td>812</td>\n",
       "      <td>0.0</td>\n",
       "      <td>0</td>\n",
       "      <td>3</td>\n",
       "      <td>943</td>\n",
       "      <td>17</td>\n",
       "      <td>318</td>\n",
       "      <td>3</td>\n",
       "      <td>0.0</td>\n",
       "      <td>10</td>\n",
       "      <td>1025</td>\n",
       "      <td>100</td>\n",
       "      <td>38</td>\n",
       "      <td>23</td>\n",
       "      <td>42</td>\n",
       "      <td>34</td>\n",
       "      <td>92</td>\n",
       "      <td>8</td>\n",
       "      <td>0</td>\n",
       "      <td>0</td>\n",
       "      <td>0</td>\n",
       "      <td>0</td>\n",
       "      <td>0</td>\n",
       "      <td>0</td>\n",
       "      <td>0</td>\n",
       "      <td>0</td>\n",
       "      <td>0</td>\n",
       "      <td>0</td>\n",
       "      <td>0</td>\n",
       "      <td>0</td>\n",
       "      <td>0</td>\n",
       "      <td>0</td>\n",
       "    </tr>\n",
       "    <tr>\n",
       "      <th>2</th>\n",
       "      <td>1</td>\n",
       "      <td>0</td>\n",
       "      <td>1</td>\n",
       "      <td>1</td>\n",
       "      <td>852.0</td>\n",
       "      <td>0.0</td>\n",
       "      <td>850</td>\n",
       "      <td>2.0</td>\n",
       "      <td>0</td>\n",
       "      <td>1</td>\n",
       "      <td>1009</td>\n",
       "      <td>17</td>\n",
       "      <td>318</td>\n",
       "      <td>3</td>\n",
       "      <td>0.0</td>\n",
       "      <td>10</td>\n",
       "      <td>1025</td>\n",
       "      <td>100</td>\n",
       "      <td>38</td>\n",
       "      <td>23</td>\n",
       "      <td>42</td>\n",
       "      <td>34</td>\n",
       "      <td>92</td>\n",
       "      <td>8</td>\n",
       "      <td>0</td>\n",
       "      <td>0</td>\n",
       "      <td>0</td>\n",
       "      <td>0</td>\n",
       "      <td>0</td>\n",
       "      <td>0</td>\n",
       "      <td>0</td>\n",
       "      <td>0</td>\n",
       "      <td>0</td>\n",
       "      <td>0</td>\n",
       "      <td>0</td>\n",
       "      <td>0</td>\n",
       "      <td>0</td>\n",
       "      <td>0</td>\n",
       "    </tr>\n",
       "    <tr>\n",
       "      <th>3</th>\n",
       "      <td>1</td>\n",
       "      <td>0</td>\n",
       "      <td>1</td>\n",
       "      <td>1</td>\n",
       "      <td>900.0</td>\n",
       "      <td>0.0</td>\n",
       "      <td>855</td>\n",
       "      <td>5.0</td>\n",
       "      <td>0</td>\n",
       "      <td>10</td>\n",
       "      <td>1045</td>\n",
       "      <td>17</td>\n",
       "      <td>318</td>\n",
       "      <td>3</td>\n",
       "      <td>0.0</td>\n",
       "      <td>10</td>\n",
       "      <td>1025</td>\n",
       "      <td>100</td>\n",
       "      <td>38</td>\n",
       "      <td>23</td>\n",
       "      <td>42</td>\n",
       "      <td>34</td>\n",
       "      <td>92</td>\n",
       "      <td>8</td>\n",
       "      <td>0</td>\n",
       "      <td>0</td>\n",
       "      <td>0</td>\n",
       "      <td>0</td>\n",
       "      <td>0</td>\n",
       "      <td>0</td>\n",
       "      <td>0</td>\n",
       "      <td>0</td>\n",
       "      <td>0</td>\n",
       "      <td>0</td>\n",
       "      <td>0</td>\n",
       "      <td>0</td>\n",
       "      <td>0</td>\n",
       "      <td>0</td>\n",
       "    </tr>\n",
       "    <tr>\n",
       "      <th>4</th>\n",
       "      <td>1</td>\n",
       "      <td>0</td>\n",
       "      <td>1</td>\n",
       "      <td>1</td>\n",
       "      <td>849.0</td>\n",
       "      <td>0.0</td>\n",
       "      <td>850</td>\n",
       "      <td>0.0</td>\n",
       "      <td>0</td>\n",
       "      <td>3</td>\n",
       "      <td>1016</td>\n",
       "      <td>17</td>\n",
       "      <td>318</td>\n",
       "      <td>3</td>\n",
       "      <td>0.0</td>\n",
       "      <td>10</td>\n",
       "      <td>1025</td>\n",
       "      <td>100</td>\n",
       "      <td>38</td>\n",
       "      <td>23</td>\n",
       "      <td>42</td>\n",
       "      <td>34</td>\n",
       "      <td>92</td>\n",
       "      <td>8</td>\n",
       "      <td>0</td>\n",
       "      <td>0</td>\n",
       "      <td>0</td>\n",
       "      <td>0</td>\n",
       "      <td>0</td>\n",
       "      <td>0</td>\n",
       "      <td>0</td>\n",
       "      <td>0</td>\n",
       "      <td>0</td>\n",
       "      <td>0</td>\n",
       "      <td>0</td>\n",
       "      <td>0</td>\n",
       "      <td>0</td>\n",
       "      <td>0</td>\n",
       "    </tr>\n",
       "    <tr>\n",
       "      <th>...</th>\n",
       "      <td>...</td>\n",
       "      <td>...</td>\n",
       "      <td>...</td>\n",
       "      <td>...</td>\n",
       "      <td>...</td>\n",
       "      <td>...</td>\n",
       "      <td>...</td>\n",
       "      <td>...</td>\n",
       "      <td>...</td>\n",
       "      <td>...</td>\n",
       "      <td>...</td>\n",
       "      <td>...</td>\n",
       "      <td>...</td>\n",
       "      <td>...</td>\n",
       "      <td>...</td>\n",
       "      <td>...</td>\n",
       "      <td>...</td>\n",
       "      <td>...</td>\n",
       "      <td>...</td>\n",
       "      <td>...</td>\n",
       "      <td>...</td>\n",
       "      <td>...</td>\n",
       "      <td>...</td>\n",
       "      <td>...</td>\n",
       "      <td>...</td>\n",
       "      <td>...</td>\n",
       "      <td>...</td>\n",
       "      <td>...</td>\n",
       "      <td>...</td>\n",
       "      <td>...</td>\n",
       "      <td>...</td>\n",
       "      <td>...</td>\n",
       "      <td>...</td>\n",
       "      <td>...</td>\n",
       "      <td>...</td>\n",
       "      <td>...</td>\n",
       "      <td>...</td>\n",
       "      <td>...</td>\n",
       "    </tr>\n",
       "    <tr>\n",
       "      <th>1851431</th>\n",
       "      <td>4</td>\n",
       "      <td>1</td>\n",
       "      <td>12</td>\n",
       "      <td>2</td>\n",
       "      <td>456.0</td>\n",
       "      <td>0.0</td>\n",
       "      <td>504</td>\n",
       "      <td>0.0</td>\n",
       "      <td>14</td>\n",
       "      <td>2</td>\n",
       "      <td>838</td>\n",
       "      <td>5</td>\n",
       "      <td>20</td>\n",
       "      <td>11</td>\n",
       "      <td>0.0</td>\n",
       "      <td>10</td>\n",
       "      <td>1017</td>\n",
       "      <td>100</td>\n",
       "      <td>47</td>\n",
       "      <td>8</td>\n",
       "      <td>48</td>\n",
       "      <td>47</td>\n",
       "      <td>97</td>\n",
       "      <td>5</td>\n",
       "      <td>0</td>\n",
       "      <td>0</td>\n",
       "      <td>0</td>\n",
       "      <td>0</td>\n",
       "      <td>0</td>\n",
       "      <td>0</td>\n",
       "      <td>0</td>\n",
       "      <td>0</td>\n",
       "      <td>0</td>\n",
       "      <td>0</td>\n",
       "      <td>0</td>\n",
       "      <td>0</td>\n",
       "      <td>0</td>\n",
       "      <td>1</td>\n",
       "    </tr>\n",
       "    <tr>\n",
       "      <th>1851432</th>\n",
       "      <td>4</td>\n",
       "      <td>1</td>\n",
       "      <td>12</td>\n",
       "      <td>2</td>\n",
       "      <td>522.0</td>\n",
       "      <td>0.0</td>\n",
       "      <td>530</td>\n",
       "      <td>0.0</td>\n",
       "      <td>14</td>\n",
       "      <td>5</td>\n",
       "      <td>1107</td>\n",
       "      <td>5</td>\n",
       "      <td>20</td>\n",
       "      <td>11</td>\n",
       "      <td>0.0</td>\n",
       "      <td>10</td>\n",
       "      <td>1017</td>\n",
       "      <td>100</td>\n",
       "      <td>47</td>\n",
       "      <td>8</td>\n",
       "      <td>48</td>\n",
       "      <td>47</td>\n",
       "      <td>97</td>\n",
       "      <td>5</td>\n",
       "      <td>0</td>\n",
       "      <td>0</td>\n",
       "      <td>0</td>\n",
       "      <td>0</td>\n",
       "      <td>0</td>\n",
       "      <td>0</td>\n",
       "      <td>0</td>\n",
       "      <td>0</td>\n",
       "      <td>0</td>\n",
       "      <td>0</td>\n",
       "      <td>0</td>\n",
       "      <td>0</td>\n",
       "      <td>0</td>\n",
       "      <td>1</td>\n",
       "    </tr>\n",
       "    <tr>\n",
       "      <th>1851433</th>\n",
       "      <td>4</td>\n",
       "      <td>1</td>\n",
       "      <td>12</td>\n",
       "      <td>2</td>\n",
       "      <td>54.0</td>\n",
       "      <td>0.0</td>\n",
       "      <td>104</td>\n",
       "      <td>0.0</td>\n",
       "      <td>14</td>\n",
       "      <td>5</td>\n",
       "      <td>638</td>\n",
       "      <td>4</td>\n",
       "      <td>159</td>\n",
       "      <td>11</td>\n",
       "      <td>0.0</td>\n",
       "      <td>10</td>\n",
       "      <td>1017</td>\n",
       "      <td>100</td>\n",
       "      <td>49</td>\n",
       "      <td>7</td>\n",
       "      <td>50</td>\n",
       "      <td>50</td>\n",
       "      <td>98</td>\n",
       "      <td>1</td>\n",
       "      <td>0</td>\n",
       "      <td>0</td>\n",
       "      <td>0</td>\n",
       "      <td>0</td>\n",
       "      <td>0</td>\n",
       "      <td>0</td>\n",
       "      <td>0</td>\n",
       "      <td>0</td>\n",
       "      <td>0</td>\n",
       "      <td>0</td>\n",
       "      <td>0</td>\n",
       "      <td>0</td>\n",
       "      <td>0</td>\n",
       "      <td>1</td>\n",
       "    </tr>\n",
       "    <tr>\n",
       "      <th>1851434</th>\n",
       "      <td>4</td>\n",
       "      <td>1</td>\n",
       "      <td>12</td>\n",
       "      <td>18</td>\n",
       "      <td>103.0</td>\n",
       "      <td>0.0</td>\n",
       "      <td>104</td>\n",
       "      <td>0.0</td>\n",
       "      <td>14</td>\n",
       "      <td>5</td>\n",
       "      <td>640</td>\n",
       "      <td>5</td>\n",
       "      <td>22</td>\n",
       "      <td>0</td>\n",
       "      <td>0.0</td>\n",
       "      <td>10</td>\n",
       "      <td>1020</td>\n",
       "      <td>1</td>\n",
       "      <td>47</td>\n",
       "      <td>9</td>\n",
       "      <td>60</td>\n",
       "      <td>60</td>\n",
       "      <td>63</td>\n",
       "      <td>1</td>\n",
       "      <td>0</td>\n",
       "      <td>0</td>\n",
       "      <td>0</td>\n",
       "      <td>0</td>\n",
       "      <td>0</td>\n",
       "      <td>0</td>\n",
       "      <td>0</td>\n",
       "      <td>0</td>\n",
       "      <td>0</td>\n",
       "      <td>0</td>\n",
       "      <td>0</td>\n",
       "      <td>0</td>\n",
       "      <td>0</td>\n",
       "      <td>1</td>\n",
       "    </tr>\n",
       "    <tr>\n",
       "      <th>1851435</th>\n",
       "      <td>4</td>\n",
       "      <td>1</td>\n",
       "      <td>12</td>\n",
       "      <td>17</td>\n",
       "      <td>110.0</td>\n",
       "      <td>0.0</td>\n",
       "      <td>104</td>\n",
       "      <td>6.0</td>\n",
       "      <td>14</td>\n",
       "      <td>5</td>\n",
       "      <td>640</td>\n",
       "      <td>15</td>\n",
       "      <td>13</td>\n",
       "      <td>0</td>\n",
       "      <td>0.0</td>\n",
       "      <td>10</td>\n",
       "      <td>1016</td>\n",
       "      <td>0</td>\n",
       "      <td>27</td>\n",
       "      <td>38</td>\n",
       "      <td>50</td>\n",
       "      <td>46</td>\n",
       "      <td>39</td>\n",
       "      <td>1</td>\n",
       "      <td>0</td>\n",
       "      <td>0</td>\n",
       "      <td>0</td>\n",
       "      <td>0</td>\n",
       "      <td>0</td>\n",
       "      <td>0</td>\n",
       "      <td>0</td>\n",
       "      <td>0</td>\n",
       "      <td>0</td>\n",
       "      <td>0</td>\n",
       "      <td>0</td>\n",
       "      <td>0</td>\n",
       "      <td>0</td>\n",
       "      <td>1</td>\n",
       "    </tr>\n",
       "  </tbody>\n",
       "</table>\n",
       "<p>1851433 rows × 38 columns</p>\n",
       "</div>"
      ],
      "text/plain": [
       "         Quarter  Year  Month  DayofMonth  DepTime  DepDel15  CRSDepTime  \\\n",
       "0              1     0      1           1    808.0       0.0         810   \n",
       "1              1     0      1           1    810.0       0.0         812   \n",
       "2              1     0      1           1    852.0       0.0         850   \n",
       "3              1     0      1           1    900.0       0.0         855   \n",
       "4              1     0      1           1    849.0       0.0         850   \n",
       "...          ...   ...    ...         ...      ...       ...         ...   \n",
       "1851431        4     1     12           2    456.0       0.0         504   \n",
       "1851432        4     1     12           2    522.0       0.0         530   \n",
       "1851433        4     1     12           2     54.0       0.0         104   \n",
       "1851434        4     1     12          18    103.0       0.0         104   \n",
       "1851435        4     1     12          17    110.0       0.0         104   \n",
       "\n",
       "         DepDelayMinutes  OriginAirportID  DestAirportID  CRSArrTime  \\\n",
       "0                    0.0                0             10        1016   \n",
       "1                    0.0                0              3         943   \n",
       "2                    2.0                0              1        1009   \n",
       "3                    5.0                0             10        1045   \n",
       "4                    0.0                0              3        1016   \n",
       "...                  ...              ...            ...         ...   \n",
       "1851431              0.0               14              2         838   \n",
       "1851432              0.0               14              5        1107   \n",
       "1851433              0.0               14              5         638   \n",
       "1851434              0.0               14              5         640   \n",
       "1851435              6.0               14              5         640   \n",
       "\n",
       "         windspeedKmph  winddirDegree  weatherCode  precipMM  visibility  \\\n",
       "0                   17            318            3       0.0          10   \n",
       "1                   17            318            3       0.0          10   \n",
       "2                   17            318            3       0.0          10   \n",
       "3                   17            318            3       0.0          10   \n",
       "4                   17            318            3       0.0          10   \n",
       "...                ...            ...          ...       ...         ...   \n",
       "1851431              5             20           11       0.0          10   \n",
       "1851432              5             20           11       0.0          10   \n",
       "1851433              4            159           11       0.0          10   \n",
       "1851434              5             22            0       0.0          10   \n",
       "1851435             15             13            0       0.0          10   \n",
       "\n",
       "         pressure  cloudcover  DewPointF  WindGustKmph  tempF  WindChillF  \\\n",
       "0            1025         100         38            23     42          34   \n",
       "1            1025         100         38            23     42          34   \n",
       "2            1025         100         38            23     42          34   \n",
       "3            1025         100         38            23     42          34   \n",
       "4            1025         100         38            23     42          34   \n",
       "...           ...         ...        ...           ...    ...         ...   \n",
       "1851431      1017         100         47             8     48          47   \n",
       "1851432      1017         100         47             8     48          47   \n",
       "1851433      1017         100         49             7     50          50   \n",
       "1851434      1020           1         47             9     60          60   \n",
       "1851435      1016           0         27            38     50          46   \n",
       "\n",
       "         humidity  time  loc_CLT  loc_DEN  loc_DFW  loc_EWR  loc_IAH  loc_JFK  \\\n",
       "0              92     8        0        0        0        0        0        0   \n",
       "1              92     8        0        0        0        0        0        0   \n",
       "2              92     8        0        0        0        0        0        0   \n",
       "3              92     8        0        0        0        0        0        0   \n",
       "4              92     8        0        0        0        0        0        0   \n",
       "...           ...   ...      ...      ...      ...      ...      ...      ...   \n",
       "1851431        97     5        0        0        0        0        0        0   \n",
       "1851432        97     5        0        0        0        0        0        0   \n",
       "1851433        98     1        0        0        0        0        0        0   \n",
       "1851434        63     1        0        0        0        0        0        0   \n",
       "1851435        39     1        0        0        0        0        0        0   \n",
       "\n",
       "         loc_LAS  loc_LAX  loc_MCO  loc_MIA  loc_ORD  loc_PHX  loc_SEA  \\\n",
       "0              0        0        0        0        0        0        0   \n",
       "1              0        0        0        0        0        0        0   \n",
       "2              0        0        0        0        0        0        0   \n",
       "3              0        0        0        0        0        0        0   \n",
       "4              0        0        0        0        0        0        0   \n",
       "...          ...      ...      ...      ...      ...      ...      ...   \n",
       "1851431        0        0        0        0        0        0        0   \n",
       "1851432        0        0        0        0        0        0        0   \n",
       "1851433        0        0        0        0        0        0        0   \n",
       "1851434        0        0        0        0        0        0        0   \n",
       "1851435        0        0        0        0        0        0        0   \n",
       "\n",
       "         loc_SFO  \n",
       "0              0  \n",
       "1              0  \n",
       "2              0  \n",
       "3              0  \n",
       "4              0  \n",
       "...          ...  \n",
       "1851431        1  \n",
       "1851432        1  \n",
       "1851433        1  \n",
       "1851434        1  \n",
       "1851435        1  \n",
       "\n",
       "[1851433 rows x 38 columns]"
      ]
     },
     "execution_count": 17,
     "metadata": {
      "tags": []
     },
     "output_type": "execute_result"
    }
   ],
   "source": [
    "\n",
    "x=df\n",
    "x=x.values\n",
    "df\n"
   ]
  },
  {
   "cell_type": "code",
   "execution_count": 18,
   "metadata": {
    "colab": {
     "base_uri": "https://localhost:8080/",
     "height": 34
    },
    "colab_type": "code",
    "executionInfo": {
     "elapsed": 5220,
     "status": "ok",
     "timestamp": 1581737350868,
     "user": {
      "displayName": "Sujay S",
      "photoUrl": "",
      "userId": "00910928364704092992"
     },
     "user_tz": -330
    },
    "id": "T-nUasepxk_a",
    "outputId": "4a358762-3eb0-4cf4-9822-07e52ee74e3b"
   },
   "outputs": [
    {
     "data": {
      "text/plain": [
       "(185144,)"
      ]
     },
     "execution_count": 18,
     "metadata": {
      "tags": []
     },
     "output_type": "execute_result"
    }
   ],
   "source": [
    "from sklearn.model_selection import train_test_split\n",
    "x_train, x_test, y_train, y_test = train_test_split(x, y, test_size = 0.1, random_state = 0)\n",
    "y_test.shape"
   ]
  },
  {
   "cell_type": "code",
   "execution_count": 0,
   "metadata": {
    "colab": {},
    "colab_type": "code",
    "id": "-NVu7Kv81Jcf"
   },
   "outputs": [],
   "source": [
    "\n",
    "from sklearn.preprocessing import StandardScaler\n",
    "sc = StandardScaler()\n",
    "x_train = sc.fit_transform(x_train)\n",
    "x_test = sc.transform(x_test)\n",
    "\n"
   ]
  },
  {
   "cell_type": "code",
   "execution_count": 0,
   "metadata": {
    "colab": {
     "base_uri": "https://localhost:8080/",
     "height": 118
    },
    "colab_type": "code",
    "executionInfo": {
     "elapsed": 36396,
     "status": "ok",
     "timestamp": 1581601540829,
     "user": {
      "displayName": "Sujay S",
      "photoUrl": "",
      "userId": "00910928364704092992"
     },
     "user_tz": -330
    },
    "id": "yaJ4M2-z6X0C",
    "outputId": "61d6cb47-8189-4503-ef73-0e490bd77d47"
   },
   "outputs": [
    {
     "name": "stdout",
     "output_type": "stream",
     "text": [
      "[[143318   3189]\n",
      " [ 12355  26282]]\n",
      "0.916043728125135\n",
      "0.6802287962315915\n",
      "0.8917919310508635\n",
      "0.7717742409114936\n"
     ]
    }
   ],
   "source": [
    "\n",
    "#logistic regression\n",
    "from sklearn.linear_model import LogisticRegression\n",
    "classifier = LogisticRegression(random_state = 0, max_iter=1200000)\n",
    "classifier.fit(x_train, y_train)\n",
    "\n",
    "\n",
    "# Predicting the Test set results\n",
    "y_pred = classifier.predict(x_test)\n",
    "\n",
    "# Making the Confusion Matrix\n",
    "from sklearn.metrics import confusion_matrix\n",
    "cm = confusion_matrix(y_test, y_pred)\n",
    "print(cm)\n",
    "v=accuracy_score(y_test, y_pred, normalize=True, sample_weight=None)\n",
    "print(v)\n",
    "\n",
    "print(recall_score(y_test, y_pred, labels=None, pos_label=1, average='binary', sample_weight=None, zero_division='warn'))\n",
    "print(precision_score(y_test, y_pred, labels=None, pos_label=1, average='binary', sample_weight=None, zero_division='warn'))\n",
    "print(f1_score(y_test, y_pred, labels=None, pos_label=1, average='binary', sample_weight=None, zero_division='warn'))\n",
    "\n",
    "print(\"classification report\")\n",
    "print(classification_report(y_test, y_pred, labels=None, target_names=None, sample_weight=None, digits=2, output_dict=False, zero_division='warn'))\n"
   ]
  },
  {
   "cell_type": "code",
   "execution_count": 0,
   "metadata": {
    "colab": {
     "base_uri": "https://localhost:8080/",
     "height": 118
    },
    "colab_type": "code",
    "executionInfo": {
     "elapsed": 57076,
     "status": "ok",
     "timestamp": 1581601597949,
     "user": {
      "displayName": "Sujay S",
      "photoUrl": "",
      "userId": "00910928364704092992"
     },
     "user_tz": -330
    },
    "id": "gVbuXvWK3MMs",
    "outputId": "5abd2153-77ea-4895-ff45-872cbd45dec6"
   },
   "outputs": [
    {
     "name": "stdout",
     "output_type": "stream",
     "text": [
      "[[134255  12252]\n",
      " [ 11394  27243]]\n",
      "0.872283195782742\n",
      "0.7051013277428372\n",
      "0.6897835169008736\n",
      "0.6973583166948242\n"
     ]
    }
   ],
   "source": [
    "\n",
    "#decision tree classifier\n",
    "from sklearn.tree import DecisionTreeClassifier\n",
    "classifier = DecisionTreeClassifier(criterion = 'entropy', random_state = 0)\n",
    "classifier.fit(x_train, y_train)\n",
    "\n",
    "# Predicting the Test set results\n",
    "y_pred = classifier.predict(x_test)\n",
    "\n",
    "# Making the Confusion Matrix\n",
    "from sklearn.metrics import confusion_matrix\n",
    "cm = confusion_matrix(y_test, y_pred)\n",
    "print(cm)\n",
    "v=accuracy_score(y_test, y_pred, normalize=True, sample_weight=None)\n",
    "print(v)\n",
    "print(recall_score(y_test, y_pred, labels=None, pos_label=1, average='binary', sample_weight=None, zero_division='warn'))\n",
    "print(precision_score(y_test, y_pred, labels=None, pos_label=1, average='binary', sample_weight=None, zero_division='warn'))\n",
    "print(f1_score(y_test, y_pred, labels=None, pos_label=1, average='binary', sample_weight=None, zero_division='warn'))\n",
    "\n",
    "print(\"classification report\")\n",
    "print(classification_report(y_test, y_pred, labels=None, target_names=None, sample_weight=None, digits=2, output_dict=False, zero_division='warn'))\n"
   ]
  },
  {
   "cell_type": "code",
   "execution_count": 0,
   "metadata": {
    "colab": {
     "base_uri": "https://localhost:8080/",
     "height": 118
    },
    "colab_type": "code",
    "executionInfo": {
     "elapsed": 1371151,
     "status": "ok",
     "timestamp": 1581602912070,
     "user": {
      "displayName": "Sujay S",
      "photoUrl": "",
      "userId": "00910928364704092992"
     },
     "user_tz": -330
    },
    "id": "uYYjtvUz72ng",
    "outputId": "9b9bc8cc-b901-460b-8fe3-7dbf9b80af3a"
   },
   "outputs": [
    {
     "name": "stdout",
     "output_type": "stream",
     "text": [
      "[[142909   3598]\n",
      " [ 11469  27168]]\n",
      "0.918620101110487\n",
      "0.7031601832440407\n",
      "0.8830527205356562\n",
      "0.782905638084809\n"
     ]
    }
   ],
   "source": [
    "#random forest classifier\n",
    "from sklearn.ensemble import RandomForestClassifier\n",
    "classifier = RandomForestClassifier()\n",
    "classifier.fit(x_train, y_train)\n",
    "\n",
    "# Predicting the Test set results\n",
    "y_pred = classifier.predict(x_test)\n",
    "\n",
    "# Making the Confusion Matrix\n",
    "from sklearn.metrics import confusion_matrix\n",
    "cm = confusion_matrix(y_test, y_pred)\n",
    "print(cm)\n",
    "v=accuracy_score(y_test, y_pred, normalize=True, sample_weight=None)\n",
    "print(v)\n",
    "print(recall_score(y_test, y_pred, labels=None, pos_label=1, average='binary', sample_weight=None, zero_division='warn'))\n",
    "print(precision_score(y_test, y_pred, labels=None, pos_label=1, average='binary', sample_weight=None, zero_division='warn'))\n",
    "print(f1_score(y_test, y_pred, labels=None, pos_label=1, average='binary', sample_weight=None, zero_division='warn'))\n",
    "\n",
    "print(\"classification report\")\n",
    "print(classification_report(y_test, y_pred, labels=None, target_names=None, sample_weight=None, digits=2, output_dict=False, zero_division='warn'))\n"
   ]
  },
  {
   "cell_type": "code",
   "execution_count": 0,
   "metadata": {
    "colab": {
     "base_uri": "https://localhost:8080/",
     "height": 118
    },
    "colab_type": "code",
    "executionInfo": {
     "elapsed": 2602013,
     "status": "ok",
     "timestamp": 1581604142969,
     "user": {
      "displayName": "Sujay S",
      "photoUrl": "",
      "userId": "00910928364704092992"
     },
     "user_tz": -330
    },
    "id": "bidnuzqUR_mf",
    "outputId": "8b1e8437-6381-41aa-99a2-516a1b711475"
   },
   "outputs": [
    {
     "name": "stdout",
     "output_type": "stream",
     "text": [
      "[[143538   2969]\n",
      " [ 11841  26796]]\n",
      "0.9200082098258653\n",
      "0.6935321065300101\n",
      "0.9002519737947253\n",
      "0.7834858629864624\n"
     ]
    }
   ],
   "source": [
    "#xgboost classifier\n",
    "import xgboost as xgb\n",
    "from xgboost import XGBClassifier\n",
    "classifier = XGBClassifier(learning_rate =0.1,n_estimators=1000,max_depth=4,min_child_weight=6,gamma=0,subsample=0.8,colsample_bytree=0.8,reg_alpha=0.005,objective= 'binary:logistic',nthread=4,scale_pos_weight=1,seed=27)\n",
    "classifier.fit(x_train, y_train)\n",
    "\n",
    "# Predicting the Test set results\n",
    "y_pred = classifier.predict(x_test)\n",
    "\n",
    "# Making the Confusion Matrix\n",
    "from sklearn.metrics import confusion_matrix\n",
    "cm = confusion_matrix(y_test, y_pred)\n",
    "print(cm)\n",
    "v=accuracy_score(y_test, y_pred, normalize=True, sample_weight=None)\n",
    "print(v)\n",
    "print(recall_score(y_test, y_pred, labels=None, pos_label=1, average='binary', sample_weight=None, zero_division='warn'))\n",
    "print(precision_score(y_test, y_pred, labels=None, pos_label=1, average='binary', sample_weight=None, zero_division='warn'))\n",
    "print(f1_score(y_test, y_pred, labels=None, pos_label=1, average='binary', sample_weight=None, zero_division='warn'))\n",
    "\n",
    "print(\"classification report\")\n",
    "print(classification_report(y_test, y_pred, labels=None, target_names=None, sample_weight=None, digits=2, output_dict=False, zero_division='warn'))\n"
   ]
  },
  {
   "cell_type": "code",
   "execution_count": 0,
   "metadata": {
    "colab": {
     "base_uri": "https://localhost:8080/",
     "height": 118
    },
    "colab_type": "code",
    "executionInfo": {
     "elapsed": 2608666,
     "status": "ok",
     "timestamp": 1581604149651,
     "user": {
      "displayName": "Sujay S",
      "photoUrl": "",
      "userId": "00910928364704092992"
     },
     "user_tz": -330
    },
    "id": "ixxDZAwK74t4",
    "outputId": "6482f352-9e15-495d-a049-6615e6164632"
   },
   "outputs": [
    {
     "name": "stdout",
     "output_type": "stream",
     "text": [
      "[[138464   8043]\n",
      " [  9598  29039]]\n",
      "0.9047174091517953\n",
      "0.7515852680073505\n",
      "0.7831023137910577\n",
      "0.7670201666688679\n"
     ]
    }
   ],
   "source": [
    "\n",
    "#support vector classifier\n",
    "from sklearn.linear_model import SGDClassifier \n",
    "classifier = SGDClassifier ()\n",
    "classifier.fit(x_train, y_train)\n",
    "\n",
    "\n",
    "# Predicting the Test set results\n",
    "y_pred = classifier.predict(x_test)\n",
    "\n",
    "# Making the Confusion Matrix\n",
    "from sklearn.metrics import confusion_matrix\n",
    "cm = confusion_matrix(y_test, y_pred)\n",
    "print(cm)\n",
    "v=accuracy_score(y_test, y_pred, normalize=True, sample_weight=None)\n",
    "print(v)\n",
    "\n",
    "print(recall_score(y_test, y_pred, labels=None, pos_label=1, average='binary', sample_weight=None, zero_division='warn'))\n",
    "print(precision_score(y_test, y_pred, labels=None, pos_label=1, average='binary', sample_weight=None, zero_division='warn'))\n",
    "print(f1_score(y_test, y_pred, labels=None, pos_label=1, average='binary', sample_weight=None, zero_division='warn'))\n",
    "\n",
    "print(\"classification report\")\n",
    "print(classification_report(y_test, y_pred, labels=None, target_names=None, sample_weight=None, digits=2, output_dict=False, zero_division='warn'))\n"
   ]
  },
  {
   "cell_type": "markdown",
   "metadata": {
    "colab_type": "text",
    "id": "SceawcaCuV3T"
   },
   "source": [
    "oversampling the data"
   ]
  },
  {
   "cell_type": "code",
   "execution_count": 37,
   "metadata": {
    "colab": {
     "base_uri": "https://localhost:8080/",
     "height": 87
    },
    "colab_type": "code",
    "executionInfo": {
     "elapsed": 2156,
     "status": "ok",
     "timestamp": 1581740952977,
     "user": {
      "displayName": "Sujay S",
      "photoUrl": "",
      "userId": "00910928364704092992"
     },
     "user_tz": -330
    },
    "id": "X6QAq5yl3U2b",
    "outputId": "2b46788e-da9f-4b43-86d1-a0ae990fdf3e"
   },
   "outputs": [
    {
     "name": "stderr",
     "output_type": "stream",
     "text": [
      "/usr/local/lib/python3.6/dist-packages/sklearn/utils/deprecation.py:87: FutureWarning: Function safe_indexing is deprecated; safe_indexing is deprecated in version 0.22 and will be removed in version 0.24.\n",
      "  warnings.warn(msg, category=FutureWarning)\n"
     ]
    },
    {
     "data": {
      "text/plain": [
       "(2633736, 38)"
      ]
     },
     "execution_count": 37,
     "metadata": {
      "tags": []
     },
     "output_type": "execute_result"
    }
   ],
   "source": [
    "rus = RandomOverSampler(random_state=42)\n",
    "x_new, y_new = rus.fit_resample(x_train,y_train)\n",
    "x_new.shape"
   ]
  },
  {
   "cell_type": "code",
   "execution_count": 45,
   "metadata": {
    "colab": {
     "base_uri": "https://localhost:8080/",
     "height": 286
    },
    "colab_type": "code",
    "executionInfo": {
     "elapsed": 58884,
     "status": "ok",
     "timestamp": 1581741853955,
     "user": {
      "displayName": "Sujay S",
      "photoUrl": "",
      "userId": "00910928364704092992"
     },
     "user_tz": -330
    },
    "id": "riqWeFu2uJIy",
    "outputId": "c9b03099-18e7-4b09-ebcd-ed80c3ff39c8"
   },
   "outputs": [
    {
     "name": "stdout",
     "output_type": "stream",
     "text": [
      "[[135265  11242]\n",
      " [  8493  30144]]\n",
      "0.8934072937821371\n",
      "0.7801847969562854\n",
      "0.7283622481032234\n",
      "0.753383402271847\n",
      "classification report\n",
      "              precision    recall  f1-score   support\n",
      "\n",
      "         0.0       0.94      0.92      0.93    146507\n",
      "         1.0       0.73      0.78      0.75     38637\n",
      "\n",
      "    accuracy                           0.89    185144\n",
      "   macro avg       0.83      0.85      0.84    185144\n",
      "weighted avg       0.90      0.89      0.89    185144\n",
      "\n"
     ]
    }
   ],
   "source": [
    "\n",
    "#Logistic Regression\n",
    "from sklearn.linear_model import LogisticRegression\n",
    "classifier = LogisticRegression(random_state = 0, max_iter=1200000)\n",
    "classifier.fit(x_new, y_new)\n",
    "\n",
    "\n",
    "# Predicting the Test set results\n",
    "y_pred = classifier.predict(x_test)\n",
    "\n",
    "# Making the Confusion Matrix\n",
    "from sklearn.metrics import confusion_matrix\n",
    "cm = confusion_matrix(y_test, y_pred)\n",
    "print(cm)\n",
    "v=accuracy_score(y_test, y_pred, normalize=True, sample_weight=None)\n",
    "print(v)\n",
    "\n",
    "print(recall_score(y_test, y_pred, labels=None, pos_label=1, average='binary', sample_weight=None, zero_division='warn'))\n",
    "print(precision_score(y_test, y_pred, labels=None, pos_label=1, average='binary', sample_weight=None, zero_division='warn'))\n",
    "print(f1_score(y_test, y_pred, labels=None, pos_label=1, average='binary', sample_weight=None, zero_division='warn'))\n",
    "\n",
    "print(\"classification report\")\n",
    "print(classification_report(y_test, y_pred, labels=None, target_names=None, sample_weight=None, digits=2, output_dict=False, zero_division='warn'))\n"
   ]
  },
  {
   "cell_type": "code",
   "execution_count": 39,
   "metadata": {
    "colab": {
     "base_uri": "https://localhost:8080/",
     "height": 286
    },
    "colab_type": "code",
    "executionInfo": {
     "elapsed": 129067,
     "status": "ok",
     "timestamp": 1581741139615,
     "user": {
      "displayName": "Sujay S",
      "photoUrl": "",
      "userId": "00910928364704092992"
     },
     "user_tz": -330
    },
    "id": "luk49rHgvfLk",
    "outputId": "16263282-5cb9-46ad-9087-892945b5269c"
   },
   "outputs": [
    {
     "name": "stdout",
     "output_type": "stream",
     "text": [
      "[[134610  11897]\n",
      " [ 11394  27243]]\n",
      "0.8742006222183814\n",
      "0.7051013277428372\n",
      "0.696039856923863\n",
      "0.7005412911271971\n",
      "classification report\n",
      "              precision    recall  f1-score   support\n",
      "\n",
      "         0.0       0.92      0.92      0.92    146507\n",
      "         1.0       0.70      0.71      0.70     38637\n",
      "\n",
      "    accuracy                           0.87    185144\n",
      "   macro avg       0.81      0.81      0.81    185144\n",
      "weighted avg       0.87      0.87      0.87    185144\n",
      "\n"
     ]
    }
   ],
   "source": [
    "\n",
    "#decision tree classifier\n",
    "from sklearn.tree import DecisionTreeClassifier\n",
    "classifier = DecisionTreeClassifier(criterion = 'entropy', random_state = 0)\n",
    "classifier.fit(x_new, y_new)\n",
    "\n",
    "# Predicting the Test set results\n",
    "y_pred = classifier.predict(x_test)\n",
    "\n",
    "# Making the Confusion Matrix\n",
    "from sklearn.metrics import confusion_matrix\n",
    "cm = confusion_matrix(y_test, y_pred)\n",
    "print(cm)\n",
    "v=accuracy_score(y_test, y_pred, normalize=True, sample_weight=None)\n",
    "print(v)\n",
    "print(recall_score(y_test, y_pred, labels=None, pos_label=1, average='binary', sample_weight=None, zero_division='warn'))\n",
    "print(precision_score(y_test, y_pred, labels=None, pos_label=1, average='binary', sample_weight=None, zero_division='warn'))\n",
    "print(f1_score(y_test, y_pred, labels=None, pos_label=1, average='binary', sample_weight=None, zero_division='warn'))\n",
    "\n",
    "print(\"classification report\")\n",
    "print(classification_report(y_test, y_pred, labels=None, target_names=None, sample_weight=None, digits=2, output_dict=False, zero_division='warn'))\n"
   ]
  },
  {
   "cell_type": "markdown",
   "metadata": {
    "colab_type": "text",
    "id": "fHHT0muRE5Uc"
   },
   "source": [
    "undersampling the data\n"
   ]
  },
  {
   "cell_type": "code",
   "execution_count": 40,
   "metadata": {
    "colab": {
     "base_uri": "https://localhost:8080/",
     "height": 87
    },
    "colab_type": "code",
    "executionInfo": {
     "elapsed": 129946,
     "status": "ok",
     "timestamp": 1581741140519,
     "user": {
      "displayName": "Sujay S",
      "photoUrl": "",
      "userId": "00910928364704092992"
     },
     "user_tz": -330
    },
    "id": "OGx5LoZAE8IO",
    "outputId": "a669b6ea-e0da-4e26-9f83-114f8a527673"
   },
   "outputs": [
    {
     "name": "stderr",
     "output_type": "stream",
     "text": [
      "/usr/local/lib/python3.6/dist-packages/sklearn/utils/deprecation.py:87: FutureWarning: Function safe_indexing is deprecated; safe_indexing is deprecated in version 0.22 and will be removed in version 0.24.\n",
      "  warnings.warn(msg, category=FutureWarning)\n"
     ]
    },
    {
     "data": {
      "text/plain": [
       "(2633736, 38)"
      ]
     },
     "execution_count": 40,
     "metadata": {
      "tags": []
     },
     "output_type": "execute_result"
    }
   ],
   "source": [
    "rus = RandomUnderSampler(random_state=42)\n",
    "x_new1, y_new1 = rus.fit_resample(x_train, y_train)\n",
    "x_new.shape"
   ]
  },
  {
   "cell_type": "code",
   "execution_count": 46,
   "metadata": {
    "colab": {
     "base_uri": "https://localhost:8080/",
     "height": 286
    },
    "colab_type": "code",
    "executionInfo": {
     "elapsed": 18122,
     "status": "ok",
     "timestamp": 1581741872103,
     "user": {
      "displayName": "Sujay S",
      "photoUrl": "",
      "userId": "00910928364704092992"
     },
     "user_tz": -330
    },
    "id": "vg3SEfojFKxT",
    "outputId": "4bf38f71-1210-4a73-8ff6-fd6fdc9a77fd"
   },
   "outputs": [
    {
     "name": "stdout",
     "output_type": "stream",
     "text": [
      "[[135352  11155]\n",
      " [  8514  30123]]\n",
      "0.8937637730631293\n",
      "0.7796412764966224\n",
      "0.7297591937593876\n",
      "0.7538759932428205\n",
      "classification report\n",
      "              precision    recall  f1-score   support\n",
      "\n",
      "         0.0       0.94      0.92      0.93    146507\n",
      "         1.0       0.73      0.78      0.75     38637\n",
      "\n",
      "    accuracy                           0.89    185144\n",
      "   macro avg       0.84      0.85      0.84    185144\n",
      "weighted avg       0.90      0.89      0.90    185144\n",
      "\n"
     ]
    }
   ],
   "source": [
    "\n",
    "#logistic regression\n",
    "from sklearn.linear_model import LogisticRegression\n",
    "classifier = LogisticRegression(random_state = 0, max_iter=1200000)\n",
    "classifier.fit(x_new1, y_new1)\n",
    "\n",
    "\n",
    "# Predicting the Test set results\n",
    "y_pred = classifier.predict(x_test)\n",
    "\n",
    "# Making the Confusion Matrix\n",
    "from sklearn.metrics import confusion_matrix\n",
    "cm = confusion_matrix(y_test, y_pred)\n",
    "print(cm)\n",
    "v=accuracy_score(y_test, y_pred, normalize=True, sample_weight=None)\n",
    "print(v)\n",
    "\n",
    "print(recall_score(y_test, y_pred, labels=None, pos_label=1, average='binary', sample_weight=None, zero_division='warn'))\n",
    "print(precision_score(y_test, y_pred, labels=None, pos_label=1, average='binary', sample_weight=None, zero_division='warn'))\n",
    "print(f1_score(y_test, y_pred, labels=None, pos_label=1, average='binary', sample_weight=None, zero_division='warn'))\n",
    "\n",
    "print(\"classification report\")\n",
    "print(classification_report(y_test, y_pred, labels=None, target_names=None, sample_weight=None, digits=2, output_dict=False, zero_division='warn'))\n"
   ]
  },
  {
   "cell_type": "code",
   "execution_count": 42,
   "metadata": {
    "colab": {
     "base_uri": "https://localhost:8080/",
     "height": 286
    },
    "colab_type": "code",
    "executionInfo": {
     "elapsed": 170276,
     "status": "ok",
     "timestamp": 1581741180887,
     "user": {
      "displayName": "Sujay S",
      "photoUrl": "",
      "userId": "00910928364704092992"
     },
     "user_tz": -330
    },
    "id": "OGn3fW3NFNjV",
    "outputId": "2aadd5a2-1eb8-4e40-83f5-5a9cc8184ad2"
   },
   "outputs": [
    {
     "name": "stdout",
     "output_type": "stream",
     "text": [
      "[[116714  29793]\n",
      " [  7530  31107]]\n",
      "0.7984109665989716\n",
      "0.8051090923208324\n",
      "0.5107881773399015\n",
      "0.6250339069893607\n",
      "classification report\n",
      "              precision    recall  f1-score   support\n",
      "\n",
      "         0.0       0.94      0.80      0.86    146507\n",
      "         1.0       0.51      0.81      0.63     38637\n",
      "\n",
      "    accuracy                           0.80    185144\n",
      "   macro avg       0.73      0.80      0.74    185144\n",
      "weighted avg       0.85      0.80      0.81    185144\n",
      "\n"
     ]
    }
   ],
   "source": [
    "\n",
    "#decision tree classifier\n",
    "from sklearn.tree import DecisionTreeClassifier\n",
    "classifier = DecisionTreeClassifier(criterion = 'entropy', random_state = 0)\n",
    "classifier.fit(x_new1, y_new1)\n",
    "\n",
    "# Predicting the Test set results\n",
    "y_pred = classifier.predict(x_test)\n",
    "\n",
    "# Making the Confusion Matrix\n",
    "from sklearn.metrics import confusion_matrix\n",
    "cm = confusion_matrix(y_test, y_pred)\n",
    "print(cm)\n",
    "v=accuracy_score(y_test, y_pred, normalize=True, sample_weight=None)\n",
    "print(v)\n",
    "print(recall_score(y_test, y_pred, labels=None, pos_label=1, average='binary', sample_weight=None, zero_division='warn'))\n",
    "print(precision_score(y_test, y_pred, labels=None, pos_label=1, average='binary', sample_weight=None, zero_division='warn'))\n",
    "print(f1_score(y_test, y_pred, labels=None, pos_label=1, average='binary', sample_weight=None, zero_division='warn'))\n",
    "\n",
    "print(\"classification report\")\n",
    "print(classification_report(y_test, y_pred, labels=None, target_names=None, sample_weight=None, digits=2, output_dict=False, zero_division='warn'))\n"
   ]
  }
 ],
 "metadata": {
  "colab": {
   "authorship_tag": "ABX9TyPF7O6pRCFspoHK6sjYr6bv",
   "collapsed_sections": [],
   "machine_shape": "hm",
   "mount_file_id": "1QSaWTsW7K5suKIkgtTaiskMY9mXUcgqT",
   "name": "classification.ipynb",
   "provenance": []
  },
  "kernelspec": {
   "display_name": "Python 3 (ipykernel)",
   "language": "python",
   "name": "python3"
  },
  "language_info": {
   "codemirror_mode": {
    "name": "ipython",
    "version": 3
   },
   "file_extension": ".py",
   "mimetype": "text/x-python",
   "name": "python",
   "nbconvert_exporter": "python",
   "pygments_lexer": "ipython3",
   "version": "3.9.6"
  }
 },
 "nbformat": 4,
 "nbformat_minor": 1
}
